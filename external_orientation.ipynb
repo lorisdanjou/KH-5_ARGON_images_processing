{
 "cells": [
  {
   "cell_type": "markdown",
   "id": "1dedf610",
   "metadata": {},
   "source": [
    "# KH-5 ARGON images external orientation parameters retrieval and storage"
   ]
  },
  {
   "cell_type": "code",
   "execution_count": 1,
   "id": "a02c1e82",
   "metadata": {},
   "outputs": [],
   "source": [
    "import os\n",
    "import posixpath\n",
    "import json"
   ]
  },
  {
   "cell_type": "markdown",
   "id": "68ded5f4",
   "metadata": {},
   "source": [
    "List of available KH-5 ARGON images:"
   ]
  },
  {
   "cell_type": "code",
   "execution_count": 2,
   "id": "da8aed6d",
   "metadata": {},
   "outputs": [
    {
     "data": {
      "text/plain": [
       "['DS09034A007MC018',\n",
       " 'DS09034A007MC019',\n",
       " 'DS09034A008MC019',\n",
       " 'DS09034A008MC020',\n",
       " 'DS09034A008MC021',\n",
       " 'DS09034A008MC022',\n",
       " 'DS09058A024MC012',\n",
       " 'DS09058A024MC013']"
      ]
     },
     "execution_count": 2,
     "metadata": {},
     "output_type": "execute_result"
    }
   ],
   "source": [
    "images_root = 'D:/OneDrive/Documents/Cours/4A/SFE/data/KH-5_ARGON_images'\n",
    "products = []\n",
    "\n",
    "for x in os.listdir(images_root):\n",
    "    if os.path.isdir(posixpath.join(images_root, x)):\n",
    "        products.append(x)\n",
    "        \n",
    "products"
   ]
  },
  {
   "cell_type": "markdown",
   "id": "9ead3d5a",
   "metadata": {},
   "source": [
    "Initialise `.json` file containing all the external orientation parameters:"
   ]
  },
  {
   "cell_type": "code",
   "execution_count": 3,
   "id": "d6f13425",
   "metadata": {},
   "outputs": [],
   "source": [
    "if os.path.exists(posixpath.join(images_root, \"images_params.json\")) == False:\n",
    "    all_params = {\n",
    "        \"description\": \"Internal and external orientation parameters for KH-5 ARGON images\"\n",
    "    }\n",
    "    with open(posixpath.join(images_root, \"images_params.json\"), \"w\") as f:\n",
    "        json.dump(all_params, f, indent=4)"
   ]
  },
  {
   "cell_type": "markdown",
   "id": "8939c987",
   "metadata": {},
   "source": [
    "Set up Dask client to prevent full rasters loading in memory:"
   ]
  },
  {
   "cell_type": "markdown",
   "id": "725661eb",
   "metadata": {},
   "source": [
    "## DS09058A024MC012"
   ]
  },
  {
   "cell_type": "code",
   "execution_count": 4,
   "id": "41cf9ca2",
   "metadata": {},
   "outputs": [],
   "source": [
    "img_name = 'DS09058A024MC012'\n",
    "lat_c, lon_c = 78.8624, 13.4376\n",
    "\n",
    "with open(posixpath.join(images_root, \"images_params.json\"), \"r\") as f:\n",
    "    all_params = json.load(open(f.name, \"r\"))\n",
    "with open(posixpath.join(images_root, \"images_params.json\"), \"w\") as f:\n",
    "    if img_name not in all_params: \n",
    "        all_params[img_name] = {}\n",
    "    all_params[img_name].update({\n",
    "        \"external_orientation\":{\n",
    "            \"lat_c\": lat_c,\n",
    "            \"lon_c\": lon_c\n",
    "        }\n",
    "    })\n",
    "    json.dump(all_params, f, indent=4)"
   ]
  },
  {
   "cell_type": "markdown",
   "id": "fde3f9c1",
   "metadata": {},
   "source": [
    "## DS09058A024MC013"
   ]
  },
  {
   "cell_type": "code",
   "execution_count": 5,
   "id": "0ef2063c",
   "metadata": {},
   "outputs": [],
   "source": [
    "img_name = 'DS09058A024MC013'\n",
    "lat_c, lon_c = 77.82648, 18.33088\n",
    "\n",
    "with open(posixpath.join(images_root, \"images_params.json\"), \"r\") as f:\n",
    "    all_params = json.load(open(f.name, \"r\"))\n",
    "with open(posixpath.join(images_root, \"images_params.json\"), \"w\") as f:\n",
    "    if img_name not in all_params: \n",
    "        all_params[img_name] = {}\n",
    "    all_params[img_name].update({\n",
    "        \"external_orientation\":{\n",
    "            \"lat_c\": lat_c,\n",
    "            \"lon_c\": lon_c\n",
    "        }\n",
    "    })\n",
    "    json.dump(all_params, f, indent=4)"
   ]
  }
 ],
 "metadata": {
  "kernelspec": {
   "display_name": "base",
   "language": "python",
   "name": "python3"
  },
  "language_info": {
   "codemirror_mode": {
    "name": "ipython",
    "version": 3
   },
   "file_extension": ".py",
   "mimetype": "text/x-python",
   "name": "python",
   "nbconvert_exporter": "python",
   "pygments_lexer": "ipython3",
   "version": "3.12.3"
  }
 },
 "nbformat": 4,
 "nbformat_minor": 5
}
