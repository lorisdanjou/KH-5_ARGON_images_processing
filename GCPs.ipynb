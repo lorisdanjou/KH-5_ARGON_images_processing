{
 "cells": [
  {
   "cell_type": "code",
   "execution_count": 2,
   "id": "bc89b423",
   "metadata": {},
   "outputs": [],
   "source": [
    "import posixpath\n",
    "import numpy as np\n",
    "import pandas as pd\n",
    "import geopandas as gpd"
   ]
  },
  {
   "cell_type": "code",
   "execution_count": 5,
   "id": "87fbb532",
   "metadata": {},
   "outputs": [
    {
     "data": {
      "text/html": [
       "<div>\n",
       "<style scoped>\n",
       "    .dataframe tbody tr th:only-of-type {\n",
       "        vertical-align: middle;\n",
       "    }\n",
       "\n",
       "    .dataframe tbody tr th {\n",
       "        vertical-align: top;\n",
       "    }\n",
       "\n",
       "    .dataframe thead th {\n",
       "        text-align: right;\n",
       "    }\n",
       "</style>\n",
       "<table border=\"1\" class=\"dataframe\">\n",
       "  <thead>\n",
       "    <tr style=\"text-align: right;\">\n",
       "      <th></th>\n",
       "      <th>lon</th>\n",
       "      <th>lat</th>\n",
       "      <th>x_img</th>\n",
       "      <th>y_img</th>\n",
       "    </tr>\n",
       "  </thead>\n",
       "  <tbody>\n",
       "    <tr>\n",
       "      <th>count</th>\n",
       "      <td>101.000000</td>\n",
       "      <td>101.000000</td>\n",
       "      <td>101.000000</td>\n",
       "      <td>101.000000</td>\n",
       "    </tr>\n",
       "    <tr>\n",
       "      <th>mean</th>\n",
       "      <td>15.630898</td>\n",
       "      <td>78.507299</td>\n",
       "      <td>9273.934281</td>\n",
       "      <td>12371.918279</td>\n",
       "    </tr>\n",
       "    <tr>\n",
       "      <th>std</th>\n",
       "      <td>2.567301</td>\n",
       "      <td>0.577354</td>\n",
       "      <td>1375.826365</td>\n",
       "      <td>2599.770374</td>\n",
       "    </tr>\n",
       "    <tr>\n",
       "      <th>min</th>\n",
       "      <td>11.453661</td>\n",
       "      <td>76.443669</td>\n",
       "      <td>5890.536830</td>\n",
       "      <td>1657.784748</td>\n",
       "    </tr>\n",
       "    <tr>\n",
       "      <th>50%</th>\n",
       "      <td>15.515947</td>\n",
       "      <td>78.547910</td>\n",
       "      <td>9285.540971</td>\n",
       "      <td>12778.300138</td>\n",
       "    </tr>\n",
       "    <tr>\n",
       "      <th>max</th>\n",
       "      <td>25.494722</td>\n",
       "      <td>79.491352</td>\n",
       "      <td>11652.040938</td>\n",
       "      <td>16322.224339</td>\n",
       "    </tr>\n",
       "  </tbody>\n",
       "</table>\n",
       "</div>"
      ],
      "text/plain": [
       "              lon         lat         x_img         y_img\n",
       "count  101.000000  101.000000    101.000000    101.000000\n",
       "mean    15.630898   78.507299   9273.934281  12371.918279\n",
       "std      2.567301    0.577354   1375.826365   2599.770374\n",
       "min     11.453661   76.443669   5890.536830   1657.784748\n",
       "50%     15.515947   78.547910   9285.540971  12778.300138\n",
       "max     25.494722   79.491352  11652.040938  16322.224339"
      ]
     },
     "execution_count": 5,
     "metadata": {},
     "output_type": "execute_result"
    }
   ],
   "source": [
    "images_root = \"D:/OneDrive/Documents/Cours/4A/SFE/data/KH-5_ARGON_images/\"\n",
    "file = posixpath.join(images_root, \"DS09058A024MC013\", \"GCP.points\")\n",
    "GCPs = pd.read_csv(file, encoding=\"windows-1252\", skiprows=1)\n",
    "GCPs.columns = [\"lon\", \"lat\", \"x_img\", \"y_img\", \"enable\", \"dX\", \"dY\", \"residual\"]\n",
    "GCPs.drop(columns=[\"enable\", \"dX\", \"dY\", \"residual\"], inplace=True)\n",
    "GCPs.loc[:, \"y_img\"] = - GCPs.loc[:, \"y_img\"]\n",
    "\n",
    "GCPs.describe(percentiles=[])"
   ]
  },
  {
   "cell_type": "code",
   "execution_count": 9,
   "id": "fcdd710a",
   "metadata": {},
   "outputs": [],
   "source": [
    "GCPs_gpd = gpd.GeoDataFrame(\n",
    "    GCPs,\n",
    "    geometry=gpd.points_from_xy(GCPs.lon, GCPs.lat),\n",
    "    crs=\"EPSG:4326\"\n",
    ")\n",
    "\n",
    "GCPs_gpd.to_file(\n",
    "    posixpath.join(images_root, \"GCPs.shp\"),\n",
    "    driver=\"ESRI Shapefile\"\n",
    ")"
   ]
  }
 ],
 "metadata": {
  "kernelspec": {
   "display_name": "base",
   "language": "python",
   "name": "python3"
  },
  "language_info": {
   "codemirror_mode": {
    "name": "ipython",
    "version": 3
   },
   "file_extension": ".py",
   "mimetype": "text/x-python",
   "name": "python",
   "nbconvert_exporter": "python",
   "pygments_lexer": "ipython3",
   "version": "3.12.3"
  }
 },
 "nbformat": 4,
 "nbformat_minor": 5
}
