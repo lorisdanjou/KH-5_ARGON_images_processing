{
 "cells": [
  {
   "cell_type": "markdown",
   "id": "f07dc7a1",
   "metadata": {},
   "source": [
    "# KH-5 ARGON GCPs retrieval and storage\n",
    "The objective of this script is to retrieve all the GCPs defined for each available ARGON image, and merge them into a single `.shp` file, in order to display them with QGIS."
   ]
  },
  {
   "cell_type": "code",
   "execution_count": 1,
   "id": "bc89b423",
   "metadata": {},
   "outputs": [],
   "source": [
    "import os\n",
    "import posixpath\n",
    "import posixpath\n",
    "import pandas as pd\n",
    "import geopandas as gpd"
   ]
  },
  {
   "cell_type": "markdown",
   "id": "33181f36",
   "metadata": {},
   "source": [
    "List of available KH-5 ARGON images:"
   ]
  },
  {
   "cell_type": "code",
   "execution_count": 2,
   "id": "f3a7bc00",
   "metadata": {},
   "outputs": [
    {
     "data": {
      "text/plain": [
       "['DS09034A007MC018',\n",
       " 'DS09034A007MC019',\n",
       " 'DS09034A008MC019',\n",
       " 'DS09034A008MC020',\n",
       " 'DS09034A008MC021',\n",
       " 'DS09034A008MC022',\n",
       " 'DS09058A024MC012',\n",
       " 'DS09058A024MC013']"
      ]
     },
     "execution_count": 2,
     "metadata": {},
     "output_type": "execute_result"
    }
   ],
   "source": [
    "images_root = 'D:/OneDrive/Documents/Cours/4A/SFE/data/KH-5_ARGON_images'\n",
    "products = []\n",
    "\n",
    "for x in os.listdir(images_root):\n",
    "    if os.path.isdir(posixpath.join(images_root, x)):\n",
    "        products.append(x)\n",
    "        \n",
    "products"
   ]
  },
  {
   "cell_type": "markdown",
   "id": "78f45f44",
   "metadata": {},
   "source": [
    "Find and concatenate all the GCPs:"
   ]
  },
  {
   "cell_type": "code",
   "execution_count": 3,
   "id": "87fbb532",
   "metadata": {},
   "outputs": [
    {
     "data": {
      "text/html": [
       "<div>\n",
       "<style scoped>\n",
       "    .dataframe tbody tr th:only-of-type {\n",
       "        vertical-align: middle;\n",
       "    }\n",
       "\n",
       "    .dataframe tbody tr th {\n",
       "        vertical-align: top;\n",
       "    }\n",
       "\n",
       "    .dataframe thead th {\n",
       "        text-align: right;\n",
       "    }\n",
       "</style>\n",
       "<table border=\"1\" class=\"dataframe\">\n",
       "  <thead>\n",
       "    <tr style=\"text-align: right;\">\n",
       "      <th></th>\n",
       "      <th>lon</th>\n",
       "      <th>lat</th>\n",
       "      <th>x_img</th>\n",
       "      <th>y_img</th>\n",
       "    </tr>\n",
       "  </thead>\n",
       "  <tbody>\n",
       "    <tr>\n",
       "      <th>count</th>\n",
       "      <td>1403.000000</td>\n",
       "      <td>1403.000000</td>\n",
       "      <td>1403.000000</td>\n",
       "      <td>1403.000000</td>\n",
       "    </tr>\n",
       "    <tr>\n",
       "      <th>mean</th>\n",
       "      <td>16.090324</td>\n",
       "      <td>78.803230</td>\n",
       "      <td>10773.689829</td>\n",
       "      <td>9865.912033</td>\n",
       "    </tr>\n",
       "    <tr>\n",
       "      <th>std</th>\n",
       "      <td>2.716894</td>\n",
       "      <td>0.723730</td>\n",
       "      <td>3164.442693</td>\n",
       "      <td>4197.171501</td>\n",
       "    </tr>\n",
       "    <tr>\n",
       "      <th>min</th>\n",
       "      <td>11.092010</td>\n",
       "      <td>76.443669</td>\n",
       "      <td>2201.319577</td>\n",
       "      <td>922.504687</td>\n",
       "    </tr>\n",
       "    <tr>\n",
       "      <th>50%</th>\n",
       "      <td>15.947072</td>\n",
       "      <td>78.869887</td>\n",
       "      <td>10252.886173</td>\n",
       "      <td>10372.436077</td>\n",
       "    </tr>\n",
       "    <tr>\n",
       "      <th>max</th>\n",
       "      <td>25.785755</td>\n",
       "      <td>80.501482</td>\n",
       "      <td>17590.888720</td>\n",
       "      <td>17161.479167</td>\n",
       "    </tr>\n",
       "  </tbody>\n",
       "</table>\n",
       "</div>"
      ],
      "text/plain": [
       "               lon          lat         x_img         y_img\n",
       "count  1403.000000  1403.000000   1403.000000   1403.000000\n",
       "mean     16.090324    78.803230  10773.689829   9865.912033\n",
       "std       2.716894     0.723730   3164.442693   4197.171501\n",
       "min      11.092010    76.443669   2201.319577    922.504687\n",
       "50%      15.947072    78.869887  10252.886173  10372.436077\n",
       "max      25.785755    80.501482  17590.888720  17161.479167"
      ]
     },
     "execution_count": 3,
     "metadata": {},
     "output_type": "execute_result"
    }
   ],
   "source": [
    "all_GCPs = []\n",
    "for product in products:\n",
    "    file = posixpath.join(images_root, product, \"GCP_4326.points\")\n",
    "    if os.path.exists(file):\n",
    "        GCPs_p = pd.read_csv(file, encoding=\"windows-1252\", skiprows=1)\n",
    "        GCPs_p.columns = [\"lon\", \"lat\", \"x_img\", \"y_img\", \"enable\", \"dX\", \"dY\", \"residual\"]\n",
    "        GCPs_p.drop(columns=[\"enable\", \"dX\", \"dY\", \"residual\"], inplace=True)\n",
    "        GCPs_p.loc[:, \"y_img\"] = - GCPs_p.loc[:, \"y_img\"]\n",
    "        GCPs_p.loc[:, \"image\"] = product\n",
    "        all_GCPs.append(GCPs_p)\n",
    "\n",
    "GCPs = pd.concat(all_GCPs, ignore_index=True)\n",
    "GCPs.describe(percentiles=[])"
   ]
  },
  {
   "cell_type": "markdown",
   "id": "fc5ecb79",
   "metadata": {},
   "source": [
    "Save as a `.shp` file:"
   ]
  },
  {
   "cell_type": "code",
   "execution_count": 4,
   "id": "fcdd710a",
   "metadata": {},
   "outputs": [],
   "source": [
    "GCPs_gpd = gpd.GeoDataFrame(\n",
    "    GCPs,\n",
    "    geometry=gpd.points_from_xy(GCPs.lon, GCPs.lat),\n",
    "    crs=\"EPSG:4326\"\n",
    ")\n",
    "\n",
    "GCPs_gpd.to_file(\n",
    "    posixpath.join(images_root, \"GCPs.shp\"),\n",
    "    driver=\"ESRI Shapefile\"\n",
    ")"
   ]
  },
  {
   "cell_type": "code",
   "execution_count": 5,
   "id": "bedfd3d6",
   "metadata": {},
   "outputs": [
    {
     "data": {
      "text/html": [
       "<div>\n",
       "<style scoped>\n",
       "    .dataframe tbody tr th:only-of-type {\n",
       "        vertical-align: middle;\n",
       "    }\n",
       "\n",
       "    .dataframe tbody tr th {\n",
       "        vertical-align: top;\n",
       "    }\n",
       "\n",
       "    .dataframe thead th {\n",
       "        text-align: right;\n",
       "    }\n",
       "</style>\n",
       "<table border=\"1\" class=\"dataframe\">\n",
       "  <thead>\n",
       "    <tr style=\"text-align: right;\">\n",
       "      <th></th>\n",
       "      <th>lon</th>\n",
       "      <th>lat</th>\n",
       "      <th>x_img</th>\n",
       "      <th>y_img</th>\n",
       "      <th>image</th>\n",
       "    </tr>\n",
       "  </thead>\n",
       "  <tbody>\n",
       "    <tr>\n",
       "      <th>0</th>\n",
       "      <td>16.828623</td>\n",
       "      <td>78.613437</td>\n",
       "      <td>17180.953284</td>\n",
       "      <td>10874.721169</td>\n",
       "      <td>DS09034A007MC018</td>\n",
       "    </tr>\n",
       "    <tr>\n",
       "      <th>1</th>\n",
       "      <td>16.690747</td>\n",
       "      <td>78.586144</td>\n",
       "      <td>17272.886763</td>\n",
       "      <td>10920.020451</td>\n",
       "      <td>DS09034A007MC018</td>\n",
       "    </tr>\n",
       "    <tr>\n",
       "      <th>2</th>\n",
       "      <td>16.869854</td>\n",
       "      <td>78.567359</td>\n",
       "      <td>17293.056684</td>\n",
       "      <td>10806.875159</td>\n",
       "      <td>DS09034A007MC018</td>\n",
       "    </tr>\n",
       "    <tr>\n",
       "      <th>3</th>\n",
       "      <td>16.505390</td>\n",
       "      <td>78.511680</td>\n",
       "      <td>17496.380464</td>\n",
       "      <td>10949.092358</td>\n",
       "      <td>DS09034A007MC018</td>\n",
       "    </tr>\n",
       "    <tr>\n",
       "      <th>4</th>\n",
       "      <td>16.746596</td>\n",
       "      <td>78.535399</td>\n",
       "      <td>17401.090741</td>\n",
       "      <td>10851.662437</td>\n",
       "      <td>DS09034A007MC018</td>\n",
       "    </tr>\n",
       "    <tr>\n",
       "      <th>...</th>\n",
       "      <td>...</td>\n",
       "      <td>...</td>\n",
       "      <td>...</td>\n",
       "      <td>...</td>\n",
       "      <td>...</td>\n",
       "    </tr>\n",
       "    <tr>\n",
       "      <th>173</th>\n",
       "      <td>11.511732</td>\n",
       "      <td>79.207314</td>\n",
       "      <td>16371.920245</td>\n",
       "      <td>14142.307307</td>\n",
       "      <td>DS09034A007MC018</td>\n",
       "    </tr>\n",
       "    <tr>\n",
       "      <th>174</th>\n",
       "      <td>11.092010</td>\n",
       "      <td>79.362530</td>\n",
       "      <td>15996.179126</td>\n",
       "      <td>14463.403699</td>\n",
       "      <td>DS09034A007MC018</td>\n",
       "    </tr>\n",
       "    <tr>\n",
       "      <th>175</th>\n",
       "      <td>20.205513</td>\n",
       "      <td>78.498023</td>\n",
       "      <td>16820.127270</td>\n",
       "      <td>8967.180736</td>\n",
       "      <td>DS09034A007MC018</td>\n",
       "    </tr>\n",
       "    <tr>\n",
       "      <th>176</th>\n",
       "      <td>20.830168</td>\n",
       "      <td>78.325934</td>\n",
       "      <td>17123.885386</td>\n",
       "      <td>8443.117879</td>\n",
       "      <td>DS09034A007MC018</td>\n",
       "    </tr>\n",
       "    <tr>\n",
       "      <th>177</th>\n",
       "      <td>20.752709</td>\n",
       "      <td>78.733337</td>\n",
       "      <td>16122.290226</td>\n",
       "      <td>8949.119367</td>\n",
       "      <td>DS09034A007MC018</td>\n",
       "    </tr>\n",
       "  </tbody>\n",
       "</table>\n",
       "<p>178 rows × 5 columns</p>\n",
       "</div>"
      ],
      "text/plain": [
       "           lon        lat         x_img         y_img             image\n",
       "0    16.828623  78.613437  17180.953284  10874.721169  DS09034A007MC018\n",
       "1    16.690747  78.586144  17272.886763  10920.020451  DS09034A007MC018\n",
       "2    16.869854  78.567359  17293.056684  10806.875159  DS09034A007MC018\n",
       "3    16.505390  78.511680  17496.380464  10949.092358  DS09034A007MC018\n",
       "4    16.746596  78.535399  17401.090741  10851.662437  DS09034A007MC018\n",
       "..         ...        ...           ...           ...               ...\n",
       "173  11.511732  79.207314  16371.920245  14142.307307  DS09034A007MC018\n",
       "174  11.092010  79.362530  15996.179126  14463.403699  DS09034A007MC018\n",
       "175  20.205513  78.498023  16820.127270   8967.180736  DS09034A007MC018\n",
       "176  20.830168  78.325934  17123.885386   8443.117879  DS09034A007MC018\n",
       "177  20.752709  78.733337  16122.290226   8949.119367  DS09034A007MC018\n",
       "\n",
       "[178 rows x 5 columns]"
      ]
     },
     "execution_count": 5,
     "metadata": {},
     "output_type": "execute_result"
    }
   ],
   "source": [
    "GCPs.loc[GCPs.image == 'DS09034A007MC018']"
   ]
  },
  {
   "cell_type": "code",
   "execution_count": 6,
   "id": "d018239b",
   "metadata": {},
   "outputs": [
    {
     "name": "stdout",
     "output_type": "stream",
     "text": [
      "DS09034A007MC018: 178 GCPs\n",
      "DS09034A007MC019: 134 GCPs\n",
      "DS09034A008MC019: 0 GCPs\n",
      "DS09034A008MC020: 267 GCPs\n",
      "DS09034A008MC021: 241 GCPs\n",
      "DS09034A008MC022: 252 GCPs\n",
      "DS09058A024MC012: 167 GCPs\n",
      "DS09058A024MC013: 164 GCPs\n"
     ]
    }
   ],
   "source": [
    "for product in products:\n",
    "    print(f\"{product}: {len(GCPs.loc[GCPs.image == product])} GCPs\")"
   ]
  }
 ],
 "metadata": {
  "kernelspec": {
   "display_name": "base",
   "language": "python",
   "name": "python3"
  },
  "language_info": {
   "codemirror_mode": {
    "name": "ipython",
    "version": 3
   },
   "file_extension": ".py",
   "mimetype": "text/x-python",
   "name": "python",
   "nbconvert_exporter": "python",
   "pygments_lexer": "ipython3",
   "version": "3.12.3"
  }
 },
 "nbformat": 4,
 "nbformat_minor": 5
}
