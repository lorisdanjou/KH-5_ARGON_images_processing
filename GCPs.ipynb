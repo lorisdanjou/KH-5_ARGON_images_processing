{
 "cells": [
  {
   "cell_type": "markdown",
   "id": "f07dc7a1",
   "metadata": {},
   "source": [
    "# KH-5 ARGON GCPs retrieval and storage\n",
    "The objective of this script is to retrieve all the GCPs defined for each available ARGON image, and merge them into a single `.shp` file, in order to display them with QGIS."
   ]
  },
  {
   "cell_type": "code",
   "execution_count": null,
   "id": "bc89b423",
   "metadata": {},
   "outputs": [],
   "source": [
    "import os\n",
    "import posixpath\n",
    "import posixpath\n",
    "import pandas as pd\n",
    "import geopandas as gpd"
   ]
  },
  {
   "cell_type": "markdown",
   "id": "33181f36",
   "metadata": {},
   "source": [
    "List of available KH-5 ARGON images:"
   ]
  },
  {
   "cell_type": "code",
   "execution_count": 3,
   "id": "f3a7bc00",
   "metadata": {},
   "outputs": [
    {
     "data": {
      "text/plain": [
       "['DS09034A007MC018',\n",
       " 'DS09034A007MC019',\n",
       " 'DS09034A008MC019',\n",
       " 'DS09034A008MC020',\n",
       " 'DS09034A008MC021',\n",
       " 'DS09034A008MC022',\n",
       " 'DS09058A024MC012',\n",
       " 'DS09058A024MC013']"
      ]
     },
     "execution_count": 3,
     "metadata": {},
     "output_type": "execute_result"
    }
   ],
   "source": [
    "images_root = 'D:/OneDrive/Documents/Cours/4A/SFE/data/KH-5_ARGON_images'\n",
    "products = []\n",
    "\n",
    "for x in os.listdir(images_root):\n",
    "    if os.path.isdir(posixpath.join(images_root, x)):\n",
    "        products.append(x)\n",
    "        \n",
    "products"
   ]
  },
  {
   "cell_type": "markdown",
   "id": "78f45f44",
   "metadata": {},
   "source": [
    "Find and concatenate all the GCPs:"
   ]
  },
  {
   "cell_type": "code",
   "execution_count": 9,
   "id": "87fbb532",
   "metadata": {},
   "outputs": [
    {
     "data": {
      "text/html": [
       "<div>\n",
       "<style scoped>\n",
       "    .dataframe tbody tr th:only-of-type {\n",
       "        vertical-align: middle;\n",
       "    }\n",
       "\n",
       "    .dataframe tbody tr th {\n",
       "        vertical-align: top;\n",
       "    }\n",
       "\n",
       "    .dataframe thead th {\n",
       "        text-align: right;\n",
       "    }\n",
       "</style>\n",
       "<table border=\"1\" class=\"dataframe\">\n",
       "  <thead>\n",
       "    <tr style=\"text-align: right;\">\n",
       "      <th></th>\n",
       "      <th>lon</th>\n",
       "      <th>lat</th>\n",
       "      <th>x_img</th>\n",
       "      <th>y_img</th>\n",
       "    </tr>\n",
       "  </thead>\n",
       "  <tbody>\n",
       "    <tr>\n",
       "      <th>count</th>\n",
       "      <td>212.000000</td>\n",
       "      <td>212.000000</td>\n",
       "      <td>212.000000</td>\n",
       "      <td>212.000000</td>\n",
       "    </tr>\n",
       "    <tr>\n",
       "      <th>mean</th>\n",
       "      <td>15.328407</td>\n",
       "      <td>78.582534</td>\n",
       "      <td>9334.686023</td>\n",
       "      <td>9891.061621</td>\n",
       "    </tr>\n",
       "    <tr>\n",
       "      <th>std</th>\n",
       "      <td>2.396071</td>\n",
       "      <td>0.568299</td>\n",
       "      <td>1340.888413</td>\n",
       "      <td>3399.139763</td>\n",
       "    </tr>\n",
       "    <tr>\n",
       "      <th>min</th>\n",
       "      <td>11.453661</td>\n",
       "      <td>76.443669</td>\n",
       "      <td>5890.536830</td>\n",
       "      <td>1384.907798</td>\n",
       "    </tr>\n",
       "    <tr>\n",
       "      <th>50%</th>\n",
       "      <td>15.128492</td>\n",
       "      <td>78.613415</td>\n",
       "      <td>9335.673659</td>\n",
       "      <td>9938.286351</td>\n",
       "    </tr>\n",
       "    <tr>\n",
       "      <th>max</th>\n",
       "      <td>25.494722</td>\n",
       "      <td>79.501223</td>\n",
       "      <td>11825.378197</td>\n",
       "      <td>16322.224339</td>\n",
       "    </tr>\n",
       "  </tbody>\n",
       "</table>\n",
       "</div>"
      ],
      "text/plain": [
       "              lon         lat         x_img         y_img\n",
       "count  212.000000  212.000000    212.000000    212.000000\n",
       "mean    15.328407   78.582534   9334.686023   9891.061621\n",
       "std      2.396071    0.568299   1340.888413   3399.139763\n",
       "min     11.453661   76.443669   5890.536830   1384.907798\n",
       "50%     15.128492   78.613415   9335.673659   9938.286351\n",
       "max     25.494722   79.501223  11825.378197  16322.224339"
      ]
     },
     "execution_count": 9,
     "metadata": {},
     "output_type": "execute_result"
    }
   ],
   "source": [
    "all_GCPs = []\n",
    "for product in products:\n",
    "    file = posixpath.join(images_root, product, \"GCP.points\")\n",
    "    if os.path.exists(file):\n",
    "        GCPs_p = pd.read_csv(file, encoding=\"windows-1252\", skiprows=1)\n",
    "        GCPs_p.columns = [\"lon\", \"lat\", \"x_img\", \"y_img\", \"enable\", \"dX\", \"dY\", \"residual\"]\n",
    "        GCPs_p.drop(columns=[\"enable\", \"dX\", \"dY\", \"residual\"], inplace=True)\n",
    "        GCPs_p.loc[:, \"y_img\"] = - GCPs_p.loc[:, \"y_img\"]\n",
    "        GCPs_p.loc[:, \"image\"] = product\n",
    "        all_GCPs.append(GCPs_p)\n",
    "\n",
    "GCPs = pd.concat(all_GCPs, ignore_index=True)\n",
    "GCPs.describe(percentiles=[])"
   ]
  },
  {
   "cell_type": "markdown",
   "id": "fc5ecb79",
   "metadata": {},
   "source": [
    "Save as a `.shp` file:"
   ]
  },
  {
   "cell_type": "code",
   "execution_count": 10,
   "id": "fcdd710a",
   "metadata": {},
   "outputs": [],
   "source": [
    "GCPs_gpd = gpd.GeoDataFrame(\n",
    "    GCPs,\n",
    "    geometry=gpd.points_from_xy(GCPs.lon, GCPs.lat),\n",
    "    crs=\"EPSG:4326\"\n",
    ")\n",
    "\n",
    "GCPs_gpd.to_file(\n",
    "    posixpath.join(images_root, \"GCPs.shp\"),\n",
    "    driver=\"ESRI Shapefile\"\n",
    ")"
   ]
  }
 ],
 "metadata": {
  "kernelspec": {
   "display_name": "base",
   "language": "python",
   "name": "python3"
  },
  "language_info": {
   "codemirror_mode": {
    "name": "ipython",
    "version": 3
   },
   "file_extension": ".py",
   "mimetype": "text/x-python",
   "name": "python",
   "nbconvert_exporter": "python",
   "pygments_lexer": "ipython3",
   "version": "3.12.3"
  }
 },
 "nbformat": 4,
 "nbformat_minor": 5
}
