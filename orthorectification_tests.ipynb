{
 "cells": [
  {
   "cell_type": "code",
   "execution_count": 1,
   "metadata": {},
   "outputs": [],
   "source": [
    "import os\n",
    "import posixpath\n",
    "import xarray as xr\n",
    "import rioxarray\n",
    "import numpy as np\n",
    "import scipy.optimize as opt\n",
    "import matplotlib.pyplot as plt\n",
    "\n",
    "import geometry.internal_orientation as io\n",
    "import geometry.external_orientation as eo\n",
    "import warnings\n",
    "\n",
    "warnings.filterwarnings(\"ignore\")"
   ]
  },
  {
   "cell_type": "markdown",
   "metadata": {},
   "source": [
    "# Orthorectification tests\n",
    "\n",
    "The purpose of this notebook is to build and test the functions necessary to orthorectify KH5-ARGON images. It is divided in two sections: internal orientation (IO), for the link between fiducial and image coordinate systems, and external orientation (EO), for the link between geocentric caresian, local cartesian and WGS84 coordinate systems, and the retrieval of satellite location and attitude."
   ]
  },
  {
   "cell_type": "markdown",
   "metadata": {},
   "source": [
    "# Internal Orientation (IO)"
   ]
  },
  {
   "cell_type": "markdown",
   "metadata": {},
   "source": [
    "## Tests of non-linear transformations:\n",
    "(xc, yc, alpha, delta_xi, delta_eta)"
   ]
  },
  {
   "cell_type": "code",
   "execution_count": 2,
   "metadata": {},
   "outputs": [
    {
     "data": {
      "text/plain": [
       "(1.0, 1, 12.0, 12)"
      ]
     },
     "execution_count": 2,
     "metadata": {},
     "output_type": "execute_result"
    }
   ],
   "source": [
    "x, y = 1, 12\n",
    "xc, yc = 0.33, 25\n",
    "alpha_t = 0 * np.pi/180\n",
    "delta_xi, delta_eta = 0.1, 22.3\n",
    "xi, eta = io.image_to_fiducial_coordinates_molnar(x, y, xc, yc, alpha_t, delta_xi, delta_eta)\n",
    "x1, y1 = io.fiducial_to_image_coordinates_molnar(xi, eta, xc, yc, alpha_t, delta_xi, delta_eta)\n",
    "x1, x, y1, y"
   ]
  },
  {
   "cell_type": "code",
   "execution_count": 3,
   "metadata": {},
   "outputs": [
    {
     "data": {
      "text/plain": [
       "(0.08936108044652447, 0.08929586864952085)"
      ]
     },
     "execution_count": 3,
     "metadata": {},
     "output_type": "execute_result"
    }
   ],
   "source": [
    "xc_t, yc_t = 1, 1\n",
    "alpha_t = 30 * np.pi/180\n",
    "delta_xi_t, delta_eta_t = 1, 1\n",
    "\n",
    "FMs_fiducial_coords = np.array([\n",
    "    [0, 0],\n",
    "    [1, 0],\n",
    "    [0, 1],\n",
    "    [1, 1]\n",
    "]) * 12\n",
    "\n",
    "FMs_image_coords = np.array(\n",
    "    [np.array(io.fiducial_to_image_coordinates_molnar(XI[0], XI[1], xc_t, yc_t, alpha_t, delta_xi_t, delta_eta_t)) for XI in FMs_fiducial_coords]\n",
    ")\n",
    "\n",
    "res = opt.least_squares(\n",
    "    io.objective_function_molnar,\n",
    "    x0=[0, 0, 0, 1, 1],\n",
    "    args=(FMs_fiducial_coords, FMs_image_coords),\n",
    ")\n",
    "params = res.x\n",
    "\n",
    "xc, yc, alpha, delta_xi, delta_eta = params[0], params[1], params[2], params[3], params[4]\n",
    "x, y = 1, 1\n",
    "xi_t, eta_t = io.image_to_fiducial_coordinates_molnar(x, y, xc_t, yc_t, alpha_t, delta_xi_t, delta_eta_t)\n",
    "xi, eta = io.image_to_fiducial_coordinates_molnar(x, y, xc, yc, alpha, delta_xi, delta_eta)\n",
    "xi - xi_t, eta - eta_t"
   ]
  },
  {
   "cell_type": "code",
   "execution_count": 4,
   "metadata": {},
   "outputs": [
    {
     "data": {
      "text/plain": [
       "(1.90824833389579e-07, 5.521280728280169e-08)"
      ]
     },
     "execution_count": 4,
     "metadata": {},
     "output_type": "execute_result"
    }
   ],
   "source": [
    "xc_t, yc_t = 1, 1\n",
    "alpha_t = 30 * np.pi/180\n",
    "delta_xi_t, delta_eta_t = 1, 1\n",
    "\n",
    "FMs_fiducial_coords = np.array([\n",
    "    [0, 0],\n",
    "    [1, 0],\n",
    "    [0, 1],\n",
    "    [1, 1]\n",
    "]) * 12\n",
    "\n",
    "FMs_image_coords = np.array(\n",
    "    [np.array(io.fiducial_to_image_coordinates_molnar(XI[0], XI[1], xc_t, yc_t, alpha_t, delta_xi_t, delta_eta_t)) for XI in FMs_fiducial_coords]\n",
    ")\n",
    "\n",
    "res = opt.minimize(\n",
    "    io.objective_function_molnar,\n",
    "    x0=[0, 0, 0, 1, 1],\n",
    "    args=(FMs_fiducial_coords, FMs_image_coords),\n",
    "    method='BFGS',\n",
    ")\n",
    "if res.success == False:\n",
    "    print(res)\n",
    "params = res.x\n",
    "\n",
    "xc, yc, alpha, delta_xi, delta_eta = params[0], params[1], params[2], params[3], params[4]\n",
    "x, y = 1, 1\n",
    "xi_t, eta_t = io.image_to_fiducial_coordinates_molnar(x, y, xc_t, yc_t, alpha_t, delta_xi_t, delta_eta_t)\n",
    "xi, eta = io.image_to_fiducial_coordinates_molnar(x, y, xc, yc, alpha, delta_xi, delta_eta)\n",
    "xi - xi_t, eta - eta_t"
   ]
  },
  {
   "cell_type": "markdown",
   "metadata": {},
   "source": [
    "## Linear transformation:\n",
    "matrix: np.array([r11, r12, r21, r22])"
   ]
  },
  {
   "cell_type": "code",
   "execution_count": 5,
   "metadata": {},
   "outputs": [
    {
     "name": "stdout",
     "output_type": "stream",
     "text": [
      "[[10.39230485  6.        ]\n",
      " [-6.         10.39230485]]\n"
     ]
    },
    {
     "data": {
      "text/plain": [
       "(0.30000000000000004, 0.3, 1.0, 1)"
      ]
     },
     "execution_count": 5,
     "metadata": {},
     "output_type": "execute_result"
    }
   ],
   "source": [
    "x, y = 0.3, 1\n",
    "\n",
    "alpha = 30 * np.pi/180\n",
    "matrix = np.array([\n",
    "    [12, 0],\n",
    "    [0, 12]\n",
    "]) @ np.array([\n",
    "    [np.cos(alpha), np.sin(alpha)],\n",
    "    [-np.sin(alpha), np.cos(alpha)]\n",
    "])\n",
    "print(matrix)\n",
    "\n",
    "xi, eta = io.image_to_fiducial_coordinates_linear(x, y, matrix)\n",
    "x1, y1 = io.fiducial_to_image_coordinates_linear(xi, eta, matrix)\n",
    "x1, x, y1, y"
   ]
  },
  {
   "cell_type": "code",
   "execution_count": 6,
   "metadata": {},
   "outputs": [
    {
     "name": "stdout",
     "output_type": "stream",
     "text": [
      "[[10.39230485  6.        ]\n",
      " [-6.         10.39230485]]\n",
      "[[ 9.3921358   5.00093505]\n",
      " [-6.99922332  9.39280739]]\n"
     ]
    },
    {
     "data": {
      "text/plain": [
       "(-1.9992340023282615, -1.998720772797161)"
      ]
     },
     "execution_count": 6,
     "metadata": {},
     "output_type": "execute_result"
    }
   ],
   "source": [
    "alpha_t = 30 * np.pi/180\n",
    "matrix_t = np.array([\n",
    "    [12, 0],\n",
    "    [0, 12]\n",
    "]) @ np.array([\n",
    "    [np.cos(alpha_t), np.sin(alpha_t)],\n",
    "    [-np.sin(alpha_t), np.cos(alpha_t)]\n",
    "])\n",
    "print(matrix_t)\n",
    "\n",
    "FMs_fiducial_coords = np.array([\n",
    "    [0, 0],\n",
    "    [1, 0],\n",
    "    [0, 1],\n",
    "    [1, 1]\n",
    "]) * 12\n",
    "\n",
    "FMs_image_coords = np.array(\n",
    "    [np.array(io.fiducial_to_image_coordinates_linear(XI[0], XI[1], matrix-y)) for XI in FMs_fiducial_coords]\n",
    ")\n",
    "\n",
    "res = opt.least_squares(\n",
    "    io.objective_function_linear,\n",
    "    x0=[1, 0, 0, 1],\n",
    "    args=(FMs_fiducial_coords, FMs_image_coords),\n",
    ")\n",
    "matrix = res.x\n",
    "\n",
    "matrix = np.array([\n",
    "    [matrix[0], matrix[1]],\n",
    "    [matrix[2], matrix[3]]\n",
    "])\n",
    "print(matrix)\n",
    "x, y = 1, 1\n",
    "xi_t, eta_t = io.image_to_fiducial_coordinates_linear(x, y, matrix_t)\n",
    "xi, eta = io.image_to_fiducial_coordinates_linear(x, y, matrix)\n",
    "xi - xi_t, eta - eta_t"
   ]
  },
  {
   "cell_type": "code",
   "execution_count": 7,
   "metadata": {},
   "outputs": [
    {
     "name": "stdout",
     "output_type": "stream",
     "text": [
      "[[10.39230485  6.        ]\n",
      " [-6.         10.39230485]]\n",
      "[[10.62011906  5.75930513]\n",
      " [-5.50169194 10.36250587]]\n"
     ]
    },
    {
     "data": {
      "text/plain": [
       "(-0.012880659370718917, 0.46850908576633987)"
      ]
     },
     "execution_count": 7,
     "metadata": {},
     "output_type": "execute_result"
    }
   ],
   "source": [
    "alpha_t = 30 * np.pi/180\n",
    "matrix_t = np.array([\n",
    "    [12, 0],\n",
    "    [0, 12]\n",
    "]) @ np.array([\n",
    "    [np.cos(alpha_t), np.sin(alpha_t)],\n",
    "    [-np.sin(alpha_t), np.cos(alpha_t)]\n",
    "])\n",
    "print(matrix_t)\n",
    "\n",
    "FMs_fiducial_coords = np.array([\n",
    "    [0, 0],\n",
    "    [1, 0],\n",
    "    [0, 1],\n",
    "    [1, 1]\n",
    "]) * 12\n",
    "\n",
    "FMs_image_coords = np.array(\n",
    "    [np.array(io.fiducial_to_image_coordinates_linear(XI[0], XI[1], matrix_t)) for XI in FMs_fiducial_coords]\n",
    ")\n",
    "\n",
    "matrix = io.least_squares_linear(FMs_fiducial_coords, FMs_image_coords, alpha = 0.1, a_priori=np.array([[12, 0], [0, 12]]))\n",
    "print(matrix)\n",
    "\n",
    "x, y = 1, 1\n",
    "xi_t, eta_t = io.image_to_fiducial_coordinates_linear(x, y, matrix_t)\n",
    "xi, eta = io.image_to_fiducial_coordinates_linear(x, y, matrix)\n",
    "xi - xi_t, eta - eta_t"
   ]
  },
  {
   "cell_type": "code",
   "execution_count": 8,
   "metadata": {},
   "outputs": [
    {
     "name": "stdout",
     "output_type": "stream",
     "text": [
      "[[ 0.8660254   0.5       ]\n",
      " [-0.75        1.29903811]]\n",
      "[1 2]\n"
     ]
    },
    {
     "data": {
      "text/plain": [
       "(-1.6653345369377348e-16, 0.0)"
      ]
     },
     "execution_count": 8,
     "metadata": {},
     "output_type": "execute_result"
    }
   ],
   "source": [
    "x, y = 0.3, 1\n",
    "\n",
    "alpha = 30 * np.pi/180\n",
    "matrix = np.array([\n",
    "    [1.0, 0],\n",
    "    [0, 1.5]\n",
    "]) @ np.array([\n",
    "    [np.cos(alpha), np.sin(alpha)],\n",
    "    [-np.sin(alpha), np.cos(alpha)]\n",
    "])\n",
    "print(matrix)\n",
    "translation_vector = np.array([1, 2])\n",
    "print(translation_vector)\n",
    "\n",
    "xi, eta = io.image_to_fiducial_coordinates_affine(x, y, matrix, translation_vector)\n",
    "x1, y1 = io.fiducial_to_image_coordinates_affine(xi, eta, matrix, translation_vector)\n",
    "x1 - x, y1 - y"
   ]
  },
  {
   "cell_type": "code",
   "execution_count": 9,
   "metadata": {},
   "outputs": [
    {
     "name": "stdout",
     "output_type": "stream",
     "text": [
      "[[ 0.8660254   0.5       ]\n",
      " [-0.75        1.29903811]]\n",
      "[1 2]\n"
     ]
    },
    {
     "data": {
      "text/plain": [
       "(-9.417878032991212e-09, -2.419475464421339e-08)"
      ]
     },
     "execution_count": 9,
     "metadata": {},
     "output_type": "execute_result"
    }
   ],
   "source": [
    "alpha = 30 * np.pi/180\n",
    "matrix = np.array([\n",
    "    [1.0, 0],\n",
    "    [0, 1.5]\n",
    "]) @ np.array([\n",
    "    [np.cos(alpha), np.sin(alpha)],\n",
    "    [-np.sin(alpha), np.cos(alpha)]\n",
    "])\n",
    "print(matrix)\n",
    "translation_vector_t = np.array([1, 2])\n",
    "print(translation_vector_t)\n",
    "\n",
    "FMs_fiducial_coords = np.array([\n",
    "    [0, 0],\n",
    "    [1, 0],\n",
    "    [0, 1],\n",
    "    [1, 1]\n",
    "]) * 12\n",
    "\n",
    "FMs_image_coords = np.array(\n",
    "    [np.array(io.fiducial_to_image_coordinates_affine(XI[0], XI[1], matrix_t, translation_vector_t)) for XI in FMs_fiducial_coords]\n",
    ")\n",
    "\n",
    "res = opt.minimize(\n",
    "    io.objective_function_affine,\n",
    "    x0=[1, 0, 0, 1, 0, 0],\n",
    "    args=(FMs_fiducial_coords, FMs_image_coords),\n",
    "    method=\"BFGS\"\n",
    ")\n",
    "matrix = np.array([\n",
    "    [res.x[0], res.x[1]],\n",
    "    [res.x[2], res.x[3]]\n",
    "])\n",
    "translation_vector = np.array([[res.x[4]], [res.x[5]]])\n",
    "\n",
    "x, y = 1, 1\n",
    "xi_t, eta_t = io.image_to_fiducial_coordinates_affine(x, y, matrix_t, translation_vector_t)\n",
    "xi, eta = io.image_to_fiducial_coordinates_affine(x, y, matrix, translation_vector)\n",
    "xi - xi_t, eta - eta_t"
   ]
  },
  {
   "cell_type": "markdown",
   "metadata": {},
   "source": [
    "# External orientation (EO)"
   ]
  },
  {
   "cell_type": "code",
   "execution_count": null,
   "metadata": {},
   "outputs": [],
   "source": [
    "lat, lon, h = 78, 15, 0\n",
    "x, y, z = eo.ellipsoidal_to_geocentric_cartesian_coordinates(lat * np.pi/180, lon * np.pi/180, h)\n",
    "lat1, lon1, h1 = eo.geocentric_cartesian_to_ellipsoidal_coordinates(x, y, z)\n",
    "lat1 * 180/np.pi - lat, lon1 * 180/np.pi - lon, h1 - h"
   ]
  },
  {
   "cell_type": "code",
   "execution_count": null,
   "metadata": {},
   "outputs": [],
   "source": [
    "lat, lon, h = 78, 15, 0\n",
    "x, y, z = eo.ellipsoidal_to_geocentric_cartesian_coordinates(lat * np.pi/180, lon * np.pi/180, h)\n",
    "\n",
    "lat_c, lon_c = 75, 10\n",
    "x_gr, y_gr, z_gr = eo.geocentric_cartesian_to_local_cartesian_coordinates(x, y, z, lat_c * np.pi/180, lon_c * np.pi/180)\n",
    "x1, y1, z1 = eo.local_cartesian_to_geocentric_cartesian_coordinates(x_gr, y_gr, z_gr, lat_c * np.pi/180, lon_c * np.pi/180)\n",
    "x1 - x, y1 - y, z1 - z"
   ]
  },
  {
   "cell_type": "code",
   "execution_count": null,
   "metadata": {},
   "outputs": [],
   "source": [
    "# space rejection"
   ]
  }
 ],
 "metadata": {
  "kernelspec": {
   "display_name": "base",
   "language": "python",
   "name": "python3"
  },
  "language_info": {
   "codemirror_mode": {
    "name": "ipython",
    "version": 3
   },
   "file_extension": ".py",
   "mimetype": "text/x-python",
   "name": "python",
   "nbconvert_exporter": "python",
   "pygments_lexer": "ipython3",
   "version": "3.12.3"
  }
 },
 "nbformat": 4,
 "nbformat_minor": 2
}
