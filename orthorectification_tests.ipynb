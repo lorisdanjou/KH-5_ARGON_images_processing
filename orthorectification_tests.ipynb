{
 "cells": [
  {
   "cell_type": "code",
   "execution_count": 108,
   "metadata": {},
   "outputs": [],
   "source": [
    "import os\n",
    "import posixpath\n",
    "import xarray as xr\n",
    "import rioxarray\n",
    "import numpy as np\n",
    "import scipy.optimize as opt\n",
    "import matplotlib.pyplot as plt\n",
    "\n",
    "import geometry.internal_orientation as io\n",
    "import warnings\n",
    "\n",
    "warnings.filterwarnings(\"ignore\")"
   ]
  },
  {
   "cell_type": "markdown",
   "metadata": {},
   "source": [
    "# Orthorectification tests\n",
    "\n",
    "The purpose of this notebook is to build and test the functions necessary to orthorectify KH5-ARGON images. It is divided in two sections: internal orientation (IO), for the link between fiducial and image coordinate systems, and external orientation (EO), for the link between geocentric caresian, local cartesian and WGS84 coordinate systems, and the retrieval of satellite location and attitude."
   ]
  },
  {
   "cell_type": "markdown",
   "metadata": {},
   "source": [
    "# Internal Orientation (IO)"
   ]
  },
  {
   "cell_type": "code",
   "execution_count": 111,
   "metadata": {},
   "outputs": [
    {
     "data": {
      "text/plain": [
       "(1.0, 1, 12.0, 12)"
      ]
     },
     "execution_count": 111,
     "metadata": {},
     "output_type": "execute_result"
    }
   ],
   "source": [
    "x, y = 1, 12\n",
    "xc, yc = 0.33, 25\n",
    "alpha_t = 0 * np.pi/180\n",
    "delta_xi, delta_eta = 0.1, 22.3\n",
    "xi, eta = io.image_to_fiducial_coordinates(x, y, xc, yc, alpha_t, delta_xi, delta_eta)\n",
    "x1, y1 = io.fiducial_to_image_coordinates(xi, eta, xc, yc, alpha_t, delta_xi, delta_eta)\n",
    "x1, x, y1, y"
   ]
  },
  {
   "cell_type": "code",
   "execution_count": 116,
   "metadata": {},
   "outputs": [
    {
     "data": {
      "text/plain": [
       "(0.08936108044652447, 0.08929586864952085)"
      ]
     },
     "execution_count": 116,
     "metadata": {},
     "output_type": "execute_result"
    }
   ],
   "source": [
    "xc_t, yc_t = 1, 1\n",
    "alpha_t = 30 * np.pi/180\n",
    "delta_xi_t, delta_eta_t = 1, 1\n",
    "\n",
    "FMs_fiducial_coords = np.array([\n",
    "    [0, 0],\n",
    "    [1, 0],\n",
    "    [0, 1],\n",
    "    [1, 1]\n",
    "]) * 12\n",
    "\n",
    "FMs_image_coords = np.array(\n",
    "    [np.array(io.fiducial_to_image_coordinates(XI[0], XI[1], xc_t, yc_t, alpha_t, delta_xi_t, delta_eta_t)) for XI in FMs_fiducial_coords]\n",
    ")\n",
    "\n",
    "res = opt.least_squares(\n",
    "    io.objective_function,\n",
    "    x0=[0, 0, 0, 1, 1],\n",
    "    args=(FMs_fiducial_coords, FMs_image_coords),\n",
    ")\n",
    "params = res.x\n",
    "\n",
    "xc, yc, alpha, delta_xi, delta_eta = params[0], params[1], params[2], params[3], params[4]\n",
    "x, y = 1, 1\n",
    "xi_t, eta_t = io.image_to_fiducial_coordinates(x, y, xc_t, yc_t, alpha_t, delta_xi_t, delta_eta_t)\n",
    "xi, eta = io.image_to_fiducial_coordinates(x, y, xc, yc, alpha, delta_xi, delta_eta)\n",
    "xi - xi_t, eta - eta_t"
   ]
  },
  {
   "cell_type": "code",
   "execution_count": 117,
   "metadata": {},
   "outputs": [
    {
     "data": {
      "text/plain": [
       "(1.90824833389579e-07, 5.521280728280169e-08)"
      ]
     },
     "execution_count": 117,
     "metadata": {},
     "output_type": "execute_result"
    }
   ],
   "source": [
    "xc_t, yc_t = 1, 1\n",
    "alpha_t = 30 * np.pi/180\n",
    "delta_xi_t, delta_eta_t = 1, 1\n",
    "\n",
    "FMs_fiducial_coords = np.array([\n",
    "    [0, 0],\n",
    "    [1, 0],\n",
    "    [0, 1],\n",
    "    [1, 1]\n",
    "]) * 12\n",
    "\n",
    "FMs_image_coords = np.array(\n",
    "    [np.array(io.fiducial_to_image_coordinates(XI[0], XI[1], xc_t, yc_t, alpha_t, delta_xi_t, delta_eta_t)) for XI in FMs_fiducial_coords]\n",
    ")\n",
    "\n",
    "res = opt.minimize(\n",
    "    io.objective_function,\n",
    "    x0=[0, 0, 0, 1, 1],\n",
    "    args=(FMs_fiducial_coords, FMs_image_coords),\n",
    "    method='BFGS',\n",
    ")\n",
    "if res.success == False:\n",
    "    print(res)\n",
    "params = res.x\n",
    "\n",
    "xc, yc, alpha, delta_xi, delta_eta = params[0], params[1], params[2], params[3], params[4]\n",
    "x, y = 1, 1\n",
    "xi_t, eta_t = io.image_to_fiducial_coordinates(x, y, xc_t, yc_t, alpha_t, delta_xi_t, delta_eta_t)\n",
    "xi, eta = io.image_to_fiducial_coordinates(x, y, xc, yc, alpha, delta_xi, delta_eta)\n",
    "xi - xi_t, eta - eta_t"
   ]
  },
  {
   "cell_type": "code",
   "execution_count": null,
   "metadata": {},
   "outputs": [],
   "source": [
    "# TODO: add fuction to transform the entire image?"
   ]
  },
  {
   "cell_type": "markdown",
   "metadata": {},
   "source": [
    "# External orientation (EO)"
   ]
  },
  {
   "cell_type": "code",
   "execution_count": null,
   "metadata": {},
   "outputs": [],
   "source": [
    "# TODO: implement WGS84 → geocentric cartesian → local cartesian link\n",
    "# TODO: implement space rejection"
   ]
  }
 ],
 "metadata": {
  "kernelspec": {
   "display_name": "base",
   "language": "python",
   "name": "python3"
  },
  "language_info": {
   "codemirror_mode": {
    "name": "ipython",
    "version": 3
   },
   "file_extension": ".py",
   "mimetype": "text/x-python",
   "name": "python",
   "nbconvert_exporter": "python",
   "pygments_lexer": "ipython3",
   "version": "3.12.3"
  }
 },
 "nbformat": 4,
 "nbformat_minor": 2
}
