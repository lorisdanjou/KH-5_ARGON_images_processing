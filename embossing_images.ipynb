{
 "cells": [
  {
   "cell_type": "code",
   "execution_count": null,
   "id": "720e13b5",
   "metadata": {},
   "outputs": [],
   "source": [
    "import os\n",
    "import posixpath\n",
    "import xarray as xr\n",
    "import rioxarray\n",
    "import numpy as np\n",
    "import matplotlib.pyplot as plt\n",
    "from skimage import filters, img_as_float\n",
    "from dask_image.ndfilters import convolve as dask_convolve\n",
    "from scipy.ndimage import convolve\n",
    "\n",
    "# parallel computing\n",
    "from dask.distributed import Client\n",
    "\n",
    "# to keep xarray quiet\n",
    "# import warnings\n",
    "# warnings.filterwarnings(\"ignore\")"
   ]
  },
  {
   "cell_type": "code",
   "execution_count": null,
   "id": "bd0ab108",
   "metadata": {},
   "outputs": [],
   "source": [
    "def set_env():\n",
    "    os.environ[\"GS_NO_SIGN_REQUEST\"] = \"YES\"\n",
    "\n",
    "set_env()\n",
    "\n",
    "client = Client(n_workers=1, threads_per_worker=4)\n",
    "client.run(set_env)\n",
    "client"
   ]
  },
  {
   "cell_type": "code",
   "execution_count": null,
   "id": "50df6cdb",
   "metadata": {},
   "outputs": [],
   "source": [
    "images_root = 'D:/OneDrive/Documents/Cours/4A/SFE/data/KH-5_ARGON_images'\n",
    "products = []\n",
    "\n",
    "for x in os.listdir(images_root):\n",
    "    if os.path.isdir(posixpath.join(images_root, x)):\n",
    "        products.append(x)\n",
    "        \n",
    "products"
   ]
  },
  {
   "cell_type": "code",
   "execution_count": null,
   "id": "2402ba1d",
   "metadata": {},
   "outputs": [],
   "source": [
    "file = posixpath.join(images_root, \"DS09034A008MC021\", \"DS09034A008MC021_a_geo.tif\")\n",
    "raster = rioxarray.open_rasterio(file, chunks=True)\n",
    "raster"
   ]
  },
  {
   "cell_type": "code",
   "execution_count": null,
   "id": "0b6acc84",
   "metadata": {},
   "outputs": [],
   "source": [
    "shx, shy = raster.shape[1:]\n",
    "shx, shy"
   ]
  },
  {
   "cell_type": "code",
   "execution_count": null,
   "id": "7620dd31",
   "metadata": {},
   "outputs": [],
   "source": [
    "raster_rs = raster[0, 0:shy:10, 0:shx:10]\n",
    "raster_zoom = raster[0, 1400*10:1600*10, 1600*10:1800*10]\n",
    "\n",
    "fig, axs = plt.subplots(ncols=2, figsize=(15, 7))\n",
    "axs[0].imshow(raster_rs, cmap='gray')\n",
    "axs[1].imshow(raster_zoom, cmap='gray')"
   ]
  },
  {
   "cell_type": "code",
   "execution_count": null,
   "id": "4854a1b6",
   "metadata": {},
   "outputs": [],
   "source": [
    "# raster_rs = raster[0, 0:shy:10, 0:shx:10].compute()\n",
    "# print(raster_rs.shape)\n",
    "\n",
    "# fig, axs = plt.subplots(ncols=2, figsize=(15, 7))\n",
    "# axs[0].imshow(raster_rs, cmap='gray')\n",
    "# axs[1].imshow(raster_rs[550:850, 900:1200], cmap='gray')"
   ]
  },
  {
   "cell_type": "code",
   "execution_count": null,
   "id": "3038cd5e",
   "metadata": {
    "vscode": {
     "languageId": "ruby"
    }
   },
   "outputs": [],
   "source": [
    "# Define emboss kernel\n",
    "emboss_kernel = np.zeros((3, 3))\n",
    "emboss_kernel[0, 0] = -1\n",
    "emboss_kernel[2, 2] = 1\n",
    "\n",
    "embossed_rs = convolve(raster_rs.astype(float).values, emboss_kernel)\n",
    "embossed_zoom = convolve(raster_zoom.astype(float).values, emboss_kernel)\n",
    "\n",
    "fig, axs = plt.subplots(ncols=2, figsize=(15, 7))\n",
    "axs[0].imshow(embossed_rs, cmap='gray')\n",
    "axs[1].imshow(embossed_zoom, cmap='gray')"
   ]
  },
  {
   "cell_type": "code",
   "execution_count": null,
   "id": "3789faff",
   "metadata": {
    "vscode": {
     "languageId": "ruby"
    }
   },
   "outputs": [],
   "source": [
    "# same on full raster\n",
    "raster_em = dask_convolve(raster.astype(float).values, emboss_kernel)"
   ]
  },
  {
   "cell_type": "code",
   "execution_count": null,
   "id": "c0cd6837",
   "metadata": {
    "vscode": {
     "languageId": "ruby"
    }
   },
   "outputs": [],
   "source": []
  }
 ],
 "metadata": {
  "kernelspec": {
   "display_name": "base",
   "language": "python",
   "name": "python3"
  },
  "language_info": {
   "codemirror_mode": {
    "name": "ipython",
    "version": 3
   },
   "file_extension": ".py",
   "mimetype": "text/x-python",
   "name": "python",
   "nbconvert_exporter": "python",
   "pygments_lexer": "ipython3",
   "version": "3.12.3"
  }
 },
 "nbformat": 4,
 "nbformat_minor": 5
}
